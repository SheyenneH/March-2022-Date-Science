{
 "cells": [
  {
   "cell_type": "code",
   "execution_count": null,
   "id": "0d1a8a9c",
   "metadata": {},
   "outputs": [],
   "source": [
    "#Given  pairs of names and email addresses as input, print each name and email address \n",
    "#pair having a valid email address on a new line.\n",
    "# Enter your code here. Read input from STDIN. Print output to STDOUT\n",
    "\n",
    "import re\n",
    "import email.utils\n",
    "\n",
    "num = int(input())    #reading in amount of inputs =2\n",
    "for _ in range(num):  #for range of 2 inputs\n",
    "    tempId, tempEmail = input().split(\" \")      #splitting inputs of NAME <email>\n",
    "    valid = re.search(r'<[A-Za-z](\\w|-|\\.|_)+@[A-Za-z]+\\.[A-Za-z]{1,3}>', tempEmail) #searching for matches\n",
    "    if valid:\n",
    "        entry = tempId + \" \" + tempEmail  #combining NAME and <email>\n",
    "        print (entry)"
   ]
  }
 ],
 "metadata": {
  "kernelspec": {
   "display_name": "Python 3",
   "language": "python",
   "name": "python3"
  },
  "language_info": {
   "codemirror_mode": {
    "name": "ipython",
    "version": 3
   },
   "file_extension": ".py",
   "mimetype": "text/x-python",
   "name": "python",
   "nbconvert_exporter": "python",
   "pygments_lexer": "ipython3",
   "version": "3.8.8"
  }
 },
 "nbformat": 4,
 "nbformat_minor": 5
}
