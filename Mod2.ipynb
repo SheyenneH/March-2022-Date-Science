{
 "cells": [
  {
   "cell_type": "code",
   "execution_count": 6,
   "id": "94f5d13d",
   "metadata": {},
   "outputs": [
    {
     "name": "stdout",
     "output_type": "stream",
     "text": [
      "(2.0, 1.0)\n",
      "(-1.0, -1.0)\n"
     ]
    }
   ],
   "source": [
    "# Exercise 1 - Quadratic equation \n",
    "# Write a function solve_quadratic, that returns both solutions of a generic quadratic as a pair \n",
    "# (2-tuple) when the coefficients are given as parameters\n",
    "\n",
    "# ax2+bx+c=0 can be solved with the formula x=−b±√(b2−4ac)/2a.\n",
    "\n",
    "def solve_quadratic(a,b,c):\n",
    "    import math                                        #math fuctions\n",
    "    inside = (b * b) - (4 * a * c)                     #setting inside of sqrt to b2^−4ac\n",
    "    Inside = int(inside)                               #turning string into int\n",
    "    x = ((-1 * b) + math.sqrt(Inside)) / (2 * a)       #positive solution to quadratic\n",
    "    y = ((-1 * b) - math.sqrt(Inside)) / (2 * a)       #negative solution to quadratic\n",
    "    return(x,y) \n",
    "\n",
    "print(solve_quadratic(1,-3,2))                         #printing solutions to fuction\n",
    "print(solve_quadratic(1,2,1))\n"
   ]
  },
  {
   "cell_type": "code",
   "execution_count": 1,
   "id": "b109617c",
   "metadata": {},
   "outputs": [
    {
     "name": "stdout",
     "output_type": "stream",
     "text": [
      "List three numbers separated by spaces: 1 2 3\n"
     ]
    },
    {
     "data": {
      "text/plain": [
       "8544354292863725603"
      ]
     },
     "execution_count": 1,
     "metadata": {},
     "output_type": "execute_result"
    }
   ],
   "source": [
    "# Exercise 2\n",
    "# Get a space-separated list of integers from the user, create a tuple of those integers. \n",
    "# Then compute and print the result of hash(tuple).\n",
    "\n",
    "val = input(\"List three numbers separated by spaces: \")\n",
    "List = val.split(\" \")\n",
    "T = tuple(List)\n",
    "hash(T)"
   ]
  },
  {
   "cell_type": "code",
   "execution_count": 10,
   "id": "e274e07d",
   "metadata": {},
   "outputs": [
    {
     "name": "stdout",
     "output_type": "stream",
     "text": [
      "[3, 9, 15, 21, 8, 16, 24]\n"
     ]
    }
   ],
   "source": [
    "### Exercise 3\n",
    "# Take the following two lists. Create a third list by picking a odd-index elements \n",
    "# from the first list and even-index elements from the second.\n",
    "\n",
    "listOne = [3, 6, 9, 12, 15, 18, 21]\n",
    "listTwo = [4, 8, 12, 16, 20, 24, 28]\n",
    "\n",
    "listThree = []              #creating new matrix \n",
    "\n",
    "#[start:end:step]\n",
    "odd = listOne[::2]          #odd-index elements, [start=start:end=end:step=2] \n",
    "even = listTwo[1::2]        #even-index elements, [start=1:end=end:step=2] \n",
    "\n",
    "listThree = odd + even      #combining odd and even matrices into new list\n",
    "print(listThree)            #print new list"
   ]
  },
  {
   "cell_type": "code",
   "execution_count": 13,
   "id": "5b12221b",
   "metadata": {},
   "outputs": [
    {
     "name": "stdout",
     "output_type": "stream",
     "text": [
      "list A = [8, 45, 11]\n",
      "list B = [12, 14, 23]\n",
      "list C = [89, 45, 78]\n"
     ]
    }
   ],
   "source": [
    "#Exercise 4\n",
    "#Take the following list. Slice it into three equal chunks and reverse each list.\n",
    "\n",
    "sampleList = [11, 45, 8, 23, 14, 12, 78, 45, 89]\n",
    "\n",
    "listA = sampleList[0:3]   #retreiving values 1-3 in sample list to make new matrix\n",
    "listA.reverse()           #reversing values in matrix\n",
    "print(\"list A =\", listA)  #printing matrix\n",
    "\n",
    "\n",
    "listB = sampleList[3:6]\n",
    "listB.reverse()\n",
    "print(\"list B =\",listB)\n",
    "\n",
    "listC = sampleList[6:9]\n",
    "listC.reverse()\n",
    "print(\"list C =\",listC)"
   ]
  },
  {
   "cell_type": "code",
   "execution_count": null,
   "id": "a65abaf2",
   "metadata": {},
   "outputs": [],
   "source": [
    "#Exercise 5\n",
    "#Iterate through a given list and check if a given element already exists in a \n",
    "# dictionary as a key’s value. If not, delete it from the list.\n",
    "\n",
    "rollNumber = [47, 64, 69, 37, 76, 83, 95, 97]\n",
    "sampleDict ={'Zach':47, 'Emma':69, 'Kelly':76, 'Jason':97}"
   ]
  }
 ],
 "metadata": {
  "kernelspec": {
   "display_name": "Python 3",
   "language": "python",
   "name": "python3"
  },
  "language_info": {
   "codemirror_mode": {
    "name": "ipython",
    "version": 3
   },
   "file_extension": ".py",
   "mimetype": "text/x-python",
   "name": "python",
   "nbconvert_exporter": "python",
   "pygments_lexer": "ipython3",
   "version": "3.8.8"
  }
 },
 "nbformat": 4,
 "nbformat_minor": 5
}
