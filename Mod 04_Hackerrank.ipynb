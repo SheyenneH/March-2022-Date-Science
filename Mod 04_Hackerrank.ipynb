{
 "cells": [
  {
   "cell_type": "code",
   "execution_count": null,
   "id": "20e7f931",
   "metadata": {},
   "outputs": [],
   "source": [
    "#Given a year, determine whether it is a leap year. If it is a leap year, \n",
    "#return the Boolean True, otherwise return False.\n",
    "def is_leap(year):\n",
    "    leap = False\n",
    "    \n",
    "    return leap\n",
    "\n",
    "year = int(input())"
   ]
  }
 ],
 "metadata": {
  "kernelspec": {
   "display_name": "Python 3",
   "language": "python",
   "name": "python3"
  },
  "language_info": {
   "codemirror_mode": {
    "name": "ipython",
    "version": 3
   },
   "file_extension": ".py",
   "mimetype": "text/x-python",
   "name": "python",
   "nbconvert_exporter": "python",
   "pygments_lexer": "ipython3",
   "version": "3.8.8"
  }
 },
 "nbformat": 4,
 "nbformat_minor": 5
}
