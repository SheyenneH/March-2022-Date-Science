{
 "cells": [
  {
   "cell_type": "code",
   "execution_count": null,
   "id": "90a473f2",
   "metadata": {},
   "outputs": [],
   "source": [
    "# Enter your code here. Read input from STDIN. Print output to STDOUT\n",
    "#You are given a string S.Your task is to print all possible permutations of size k \n",
    "#of the string in lexicographic sorted order.\n",
    "from itertools import permutations\n",
    "\n",
    "word, val = input().split(\" \")\n",
    "perm = list(permutations(word, int(val)))\n",
    "perm.sort()\n",
    "\n",
    "[print(\"\".join(i)) for i in perm]"
   ]
  }
 ],
 "metadata": {
  "kernelspec": {
   "display_name": "Python 3",
   "language": "python",
   "name": "python3"
  },
  "language_info": {
   "codemirror_mode": {
    "name": "ipython",
    "version": 3
   },
   "file_extension": ".py",
   "mimetype": "text/x-python",
   "name": "python",
   "nbconvert_exporter": "python",
   "pygments_lexer": "ipython3",
   "version": "3.8.8"
  }
 },
 "nbformat": 4,
 "nbformat_minor": 5
}
