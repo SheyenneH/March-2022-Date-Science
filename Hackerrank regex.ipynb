{
 "cells": [
  {
   "cell_type": "code",
   "execution_count": null,
   "id": "6c8dd4b2",
   "metadata": {},
   "outputs": [],
   "source": [
    "# Enter your code here. Read input from STDIN. Print output to STDOUT\n",
    "#You are given a text of  lines. The text contains && and || symbols.\n",
    "#Your task is to modify those symbols to the following: && → and    || → or\n",
    "#Both && and || should have a space \" \" on both sides.\n",
    "\n",
    "import re\n",
    "for _ in range(int(input())):\n",
    "    N = input()\n",
    "    while \" && \" in N or \" || \" in N:\n",
    "        N = re.sub(r'\\s&&\\s', \" and \", N)         #replacing && with and\n",
    "        N = re.sub(r'\\s\\|\\|\\s', \" or \", N)        #replacing || with or\n",
    "    print(N)"
   ]
  }
 ],
 "metadata": {
  "kernelspec": {
   "display_name": "Python 3",
   "language": "python",
   "name": "python3"
  },
  "language_info": {
   "codemirror_mode": {
    "name": "ipython",
    "version": 3
   },
   "file_extension": ".py",
   "mimetype": "text/x-python",
   "name": "python",
   "nbconvert_exporter": "python",
   "pygments_lexer": "ipython3",
   "version": "3.8.8"
  }
 },
 "nbformat": 4,
 "nbformat_minor": 5
}
