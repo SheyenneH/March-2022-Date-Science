{
 "cells": [
  {
   "cell_type": "code",
   "execution_count": null,
   "id": "9bd0d461",
   "metadata": {},
   "outputs": [],
   "source": [
    "# Enter your code here. Read input from STDIN. Print output to STDOUT\n",
    "#You are given a string S. Your task is to print all possible size k \n",
    "#replacement combinations of the string in lexicographic sorted order.\n",
    "from itertools import combinations_with_replacement\n",
    "\n",
    "word, val = input().split(\" \")\n",
    "combinations_with_replacement = list(combinations_with_replacement(sorted(word), int(val)))\n",
    "combinations_with_replacement.sort()\n",
    "\n",
    "[print(\"\".join(i)) for i in combinations_with_replacement]\n",
    "\n"
   ]
  }
 ],
 "metadata": {
  "kernelspec": {
   "display_name": "Python 3",
   "language": "python",
   "name": "python3"
  },
  "language_info": {
   "codemirror_mode": {
    "name": "ipython",
    "version": 3
   },
   "file_extension": ".py",
   "mimetype": "text/x-python",
   "name": "python",
   "nbconvert_exporter": "python",
   "pygments_lexer": "ipython3",
   "version": "3.8.8"
  }
 },
 "nbformat": 4,
 "nbformat_minor": 5
}
