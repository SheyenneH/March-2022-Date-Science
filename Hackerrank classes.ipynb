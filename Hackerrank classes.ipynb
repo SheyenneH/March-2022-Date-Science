{
 "cells": [
  {
   "cell_type": "code",
   "execution_count": null,
   "id": "66bf7ff8",
   "metadata": {},
   "outputs": [],
   "source": [
    "#For this challenge, you are given two complex numbers, and you have to print \n",
    "#the result of their addition, subtraction, multiplication, division and modulus operations.\n",
    "#The real and imaginary precision part should be correct up to two decimal places.\n",
    "class Complex(object):\n",
    "    def __init__(self, real, imaginary):      #defining fuction\n",
    "        self.real = real                      \n",
    "        self.imaginary = imaginary\n",
    "    def __add__(self, no):                    #addition\n",
    "        r = self.real + no.real\n",
    "        i = self.imaginary + no.imaginary\n",
    "        return Complex(r,i)\n",
    "    def __sub__(self, no):                    #subtraction\n",
    "        r = self.real - no.real\n",
    "        i = self.imaginary - no.imaginary\n",
    "        return Complex(r,i)\n",
    "    def __mul__(self, no):                    #multiplication\n",
    "        r = (self.real * no.real) - (self.imaginary * no.imaginary)\n",
    "        i = (self.real * no.imaginary) + (self.imaginary * no.real)\n",
    "        return Complex(r,i)\n",
    "    def __truediv__(self, no):                #division\n",
    "        den = (no.real ** 2) + (no.imaginary ** 2)\n",
    "        R = (self.real * no.real) + (self.imaginary * no.imaginary)\n",
    "        I = (self.imaginary * no.real) - (self.real * no.imaginary)\n",
    "        r = R/den\n",
    "        i = I/den\n",
    "        return Complex(r,i)\n",
    "    def mod(self):\n",
    "        r = math.sqrt(self.real ** 2 + self.imaginary ** 2)\n",
    "        return Complex(r, 0)\n",
    "    def __str__(self):\n",
    "        if self.imaginary == 0:\n",
    "            result = \"%.2f+0.00i\" % (self.real)\n",
    "        elif self.real == 0:\n",
    "            if self.imaginary >= 0:\n",
    "                result = \"0.00+%.2fi\" % (self.imaginary)\n",
    "            else:\n",
    "                result = \"0.00-%.2fi\" % (abs(self.imaginary))\n",
    "        elif self.imaginary > 0:\n",
    "            result = \"%.2f+%.2fi\" % (self.real, self.imaginary)\n",
    "        else:\n",
    "            result = \"%.2f-%.2fi\" % (self.real, abs(self.imaginary))\n",
    "        return result"
   ]
  }
 ],
 "metadata": {
  "kernelspec": {
   "display_name": "Python 3",
   "language": "python",
   "name": "python3"
  },
  "language_info": {
   "codemirror_mode": {
    "name": "ipython",
    "version": 3
   },
   "file_extension": ".py",
   "mimetype": "text/x-python",
   "name": "python",
   "nbconvert_exporter": "python",
   "pygments_lexer": "ipython3",
   "version": "3.8.8"
  }
 },
 "nbformat": 4,
 "nbformat_minor": 5
}
