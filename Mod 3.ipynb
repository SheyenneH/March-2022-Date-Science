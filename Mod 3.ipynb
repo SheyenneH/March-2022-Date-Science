{
 "cells": [
  {
   "cell_type": "code",
   "execution_count": 1,
   "id": "2bdca9f6",
   "metadata": {},
   "outputs": [
    {
     "name": "stdout",
     "output_type": "stream",
     "text": [
      "Select a number between 1 and 9 : 5\n",
      "Guess the number the user selected between 1 and 9 : 3\n",
      "Try again\n"
     ]
    }
   ],
   "source": [
    "#Exercise 1\n",
    "#Guess a number between 1 to 9 given by the user\n",
    "\n",
    "guess = input(\"Select a number between 1 and 9 : \")\n",
    "userInput = int(guess)\n",
    "\n",
    "myGuess = input(\"Guess the number the user selected between 1 and 9 : \")\n",
    "myInput = int(myGuess)\n",
    "\n",
    "if userInput == myInput:\n",
    "    print(\"You guessed correctly. The number is\", userInput)\n",
    "else:\n",
    "    print(\"Try again\")"
   ]
  },
  {
   "cell_type": "code",
   "execution_count": 7,
   "id": "5e805172",
   "metadata": {},
   "outputs": [
    {
     "name": "stdout",
     "output_type": "stream",
     "text": [
      "Insert passphrase : Applecausekpoj11\n",
      "Your passphrase should have at least 1 special letter.\n"
     ]
    }
   ],
   "source": [
    "#Exercise 2\n",
    "#Check the validity of password input by the user.\n",
    "\n",
    "#Validation:\n",
    "import re\n",
    "while True:\n",
    "    password = input(\"Insert passphrase : \")\n",
    "    if len(password) < 6 and len(password) > 16 :  \n",
    "        print(\"Your passphrase should have at least  6-16 characters.\")\n",
    "        break\n",
    "    elif not re.search(\"[0-9]\", password):\n",
    "        print(\"Your passphrase should have at least 1 number between 0 and 9.\")\n",
    "        break\n",
    "    elif not re.search(\"[a-z]\", password): \n",
    "        print(\"Your passphrase should have at least 1 capital letter.\")\n",
    "        break\n",
    "    elif not re.search(\"[A-Z]\", password): \n",
    "        print(\"Your passphrase should have at least 1 lower case letter.\")\n",
    "        break\n",
    "    elif not re.search(\"[@#$!]\", password): \n",
    "        print(\"Your passphrase should have at least 1 special letter.\")\n",
    "        break\n",
    "    else:\n",
    "        print(\"Your password has been validated.\")\n",
    "        break\n",
    "\n",
    "# At least 1 character from [$#@] how do I add characters to the while"
   ]
  },
  {
   "cell_type": "code",
   "execution_count": 2,
   "id": "35398887",
   "metadata": {},
   "outputs": [
    {
     "name": "stdout",
     "output_type": "stream",
     "text": [
      "Whats the age of person 1 : 3\n",
      "Whats the age of person 2 : 8\n",
      "Whats the age of person 3 : 29\n",
      "Oldest persons age :  29\n",
      "Youngest persons age :  3\n"
     ]
    }
   ],
   "source": [
    "#Exercise 3\n",
    "#Get input of the age of 3 people by user and determine oldest \n",
    "#and youngest among them.\n",
    "\n",
    "person1 = input(\"Whats the age of person 1 : \")\n",
    "person1_Age = int(person1)\n",
    "person2 = input(\"Whats the age of person 2 : \")\n",
    "person2_Age = int(person2)\n",
    "person3 = input(\"Whats the age of person 3 : \")\n",
    "person3_Age = int(person3)\n",
    "List = [person1_Age, person2_Age, person3_Age]\n",
    "max_Age = max(List)\n",
    "print(\"Oldest persons age : \", max_Age)\n",
    "min_Age = min(List)\n",
    "print(\"Youngest persons age : \", min_Age)"
   ]
  },
  {
   "cell_type": "code",
   "execution_count": 3,
   "id": "f5363435",
   "metadata": {},
   "outputs": [
    {
     "name": "stdout",
     "output_type": "stream",
     "text": [
      "Number of classes held : 15\n",
      "Number of classes attended : 10\n",
      "Percentage of class attended =  66.66666666666666 %\n",
      "Student is not allowed to sit in the exam.\n"
     ]
    }
   ],
   "source": [
    "#Exercise 4\n",
    "#A student will not be allowed to sit in exam if his/her \n",
    "#attendance is less than 75%.\n",
    "\n",
    "#Take following input from user\n",
    "\n",
    "input1 = input(\"Number of classes held : \")\n",
    "classes_Held = int(input1)\n",
    "input2 = input(\"Number of classes attended : \")\n",
    "classes_Attended = int(input2)\n",
    "\n",
    "percentage_Attended = (classes_Attended / classes_Held) * 100\n",
    "print(\"Percentage of class attended = \", percentage_Attended, \"%\")\n",
    "\n",
    "if percentage_Attended < 75:\n",
    "    print(\"Student is not allowed to sit in the exam.\")\n",
    "else: \n",
    "    print(\"Student is allowed to sit in the exam.\") \n"
   ]
  },
  {
   "cell_type": "code",
   "execution_count": 4,
   "id": "b0b118bf",
   "metadata": {},
   "outputs": [
    {
     "name": "stdout",
     "output_type": "stream",
     "text": [
      "Insert integer N: 18\n",
      "Weird\n"
     ]
    }
   ],
   "source": [
    "#Exercise 5\n",
    "#Get an integer N from the user and perform the following actions:\n",
    "input = input(\"Insert integer N: \")\n",
    "N = int(input)\n",
    "\n",
    "if N%2 == 0 and N > 20:  #if N is even & N>20, print \"Not Weird\"\n",
    "    print(\"Not weird\")\n",
    "elif N <=5 and N >= 2:   #if N is even & 2<N<5, print \"Not Weird\"\n",
    "    print(\"Not weird\")    \n",
    "elif N <=20 and N >= 6:  #if N is even & 6<N<20, print \"Weird\"\n",
    "    print(\"Weird\")\n",
    "else:\n",
    "    print(\"Weird\") #if N is odd, print \"weird\"\n"
   ]
  }
 ],
 "metadata": {
  "kernelspec": {
   "display_name": "Python 3",
   "language": "python",
   "name": "python3"
  },
  "language_info": {
   "codemirror_mode": {
    "name": "ipython",
    "version": 3
   },
   "file_extension": ".py",
   "mimetype": "text/x-python",
   "name": "python",
   "nbconvert_exporter": "python",
   "pygments_lexer": "ipython3",
   "version": "3.8.8"
  }
 },
 "nbformat": 4,
 "nbformat_minor": 5
}
