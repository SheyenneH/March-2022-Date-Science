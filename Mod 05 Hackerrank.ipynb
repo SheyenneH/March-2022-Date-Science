{
 "cells": [
  {
   "cell_type": "code",
   "execution_count": null,
   "id": "1b2f0e9f",
   "metadata": {},
   "outputs": [],
   "source": [
    "# Enter your code here. Read input from STDIN. Print output to STDOUT\n",
    "#You are given two values. Perform integer division and print .\n",
    "T = int(input()) #number of test cases\n",
    "for _ in range(T):           #for numbers in range of test cases\n",
    "    a, b = input().split()   #input a and b with a space\n",
    "    try:                     # try used for exceptions\n",
    "        print(int(a)//int(b))\n",
    "    except (ZeroDivisionError, ValueError) as e:\n",
    "        print(\"Error Code:\", e)"
   ]
  }
 ],
 "metadata": {
  "kernelspec": {
   "display_name": "Python 3",
   "language": "python",
   "name": "python3"
  },
  "language_info": {
   "codemirror_mode": {
    "name": "ipython",
    "version": 3
   },
   "file_extension": ".py",
   "mimetype": "text/x-python",
   "name": "python",
   "nbconvert_exporter": "python",
   "pygments_lexer": "ipython3",
   "version": "3.8.8"
  }
 },
 "nbformat": 4,
 "nbformat_minor": 5
}
