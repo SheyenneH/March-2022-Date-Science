{
 "cells": [
  {
   "cell_type": "code",
   "execution_count": null,
   "id": "9e2f8ab1",
   "metadata": {},
   "outputs": [],
   "source": [
    "# Enter your code here. Read input from STDIN. Print output to STDOUT\n",
    "#You are given a two lists A and B. Your task is to compute their cartesian product X.\n",
    "from itertools import product\n",
    "A = input().split()\n",
    "B = input().split()\n",
    "a = list(map(int,A))\n",
    "b = list(map(int,B))\n",
    "\n",
    "print(*product(a, b))\n"
   ]
  }
 ],
 "metadata": {
  "kernelspec": {
   "display_name": "Python 3",
   "language": "python",
   "name": "python3"
  },
  "language_info": {
   "codemirror_mode": {
    "name": "ipython",
    "version": 3
   },
   "file_extension": ".py",
   "mimetype": "text/x-python",
   "name": "python",
   "nbconvert_exporter": "python",
   "pygments_lexer": "ipython3",
   "version": "3.8.8"
  }
 },
 "nbformat": 4,
 "nbformat_minor": 5
}
